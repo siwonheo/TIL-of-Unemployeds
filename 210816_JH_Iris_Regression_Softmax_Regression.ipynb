{
  "nbformat": 4,
  "nbformat_minor": 0,
  "metadata": {
    "colab": {
      "name": "210816-JH_Iris_Regression-Softmax_Regression.ipynb",
      "provenance": [],
      "collapsed_sections": [],
      "mount_file_id": "1X34RVwrlbYtVtEhPjC-ff73ygYye_itZ",
      "authorship_tag": "ABX9TyMiICCB3aM0WZ9+tlBGEJXR",
      "include_colab_link": true
    },
    "kernelspec": {
      "name": "python3",
      "display_name": "Python 3"
    },
    "language_info": {
      "name": "python"
    }
  },
  "cells": [
    {
      "cell_type": "markdown",
      "metadata": {
        "id": "view-in-github",
        "colab_type": "text"
      },
      "source": [
        "<a href=\"https://colab.research.google.com/github/CoProjOfUnemployeds/TIL-of-Unemployeds/blob/main/210816_JH_Iris_Regression_Softmax_Regression.ipynb\" target=\"_parent\"><img src=\"https://colab.research.google.com/assets/colab-badge.svg\" alt=\"Open In Colab\"/></a>"
      ]
    },
    {
      "cell_type": "markdown",
      "metadata": {
        "id": "qtEYnMJRxrtC"
      },
      "source": [
        "전처리 단계"
      ]
    },
    {
      "cell_type": "code",
      "metadata": {
        "id": "XDo4l1nXoilJ"
      },
      "source": [
        "import pandas as pd"
      ],
      "execution_count": null,
      "outputs": []
    },
    {
      "cell_type": "code",
      "metadata": {
        "id": "vdDycC_GpH8C"
      },
      "source": [
        "data = pd.read_csv('/content/drive/MyDrive/colab/딥 러닝을 이용한 자연어처리 입문/Iris.csv', encoding = 'latin1')"
      ],
      "execution_count": null,
      "outputs": []
    },
    {
      "cell_type": "code",
      "metadata": {
        "id": "N9t8w4EXphVX"
      },
      "source": [
        "data.head(5)\n",
        "print(data.shape)"
      ],
      "execution_count": null,
      "outputs": []
    },
    {
      "cell_type": "code",
      "metadata": {
        "colab": {
          "base_uri": "https://localhost:8080/"
        },
        "id": "O4VhSQoQthi5",
        "outputId": "7092c9c9-a63e-4f59-b41b-f916f7684f14"
      },
      "source": [
        "data.info()"
      ],
      "execution_count": null,
      "outputs": [
        {
          "output_type": "stream",
          "text": [
            "<class 'pandas.core.frame.DataFrame'>\n",
            "RangeIndex: 150 entries, 0 to 149\n",
            "Data columns (total 5 columns):\n",
            " #   Column         Non-Null Count  Dtype  \n",
            "---  ------         --------------  -----  \n",
            " 0   SepalLengthCm  150 non-null    float64\n",
            " 1   SepalWidthCm   150 non-null    float64\n",
            " 2   PetalLengthCm  150 non-null    float64\n",
            " 3   PetalWidthCm   150 non-null    float64\n",
            " 4   Species        150 non-null    object \n",
            "dtypes: float64(4), object(1)\n",
            "memory usage: 6.0+ KB\n"
          ],
          "name": "stdout"
        }
      ]
    },
    {
      "cell_type": "code",
      "metadata": {
        "colab": {
          "base_uri": "https://localhost:8080/"
        },
        "id": "q9cdvqJrqMeb",
        "outputId": "2cd18699-3963-4583-8f62-37a0e68b6d73"
      },
      "source": [
        "print(\"품종 종류: \", data['Species'].unique(), sep = '\\n')"
      ],
      "execution_count": null,
      "outputs": [
        {
          "output_type": "stream",
          "text": [
            "품종 종류: \n",
            "['Iris-setosa' 'Iris-versicolor' 'Iris-virginica']\n"
          ],
          "name": "stdout"
        }
      ]
    },
    {
      "cell_type": "code",
      "metadata": {
        "id": "qED8hlDPq3IA"
      },
      "source": [
        "import seaborn as sns\n",
        "#data = data.drop(columns = 'Id')\n",
        "\n",
        "sns.set(style = 'whitegrid', color_codes = True)\n",
        "g = sns.pairplot(data, hue=\"Species\", palette=\"husl\")"
      ],
      "execution_count": null,
      "outputs": []
    },
    {
      "cell_type": "code",
      "metadata": {
        "id": "o9alZLfgsmxa"
      },
      "source": [
        "# 각 종과 특성에 대한 연관 관계\n",
        "sns.barplot(data['Species'], data['SepalWidthCm'], ci=None)"
      ],
      "execution_count": null,
      "outputs": []
    },
    {
      "cell_type": "code",
      "metadata": {
        "id": "RsObPEnItO3u"
      },
      "source": [
        "import matplotlib.pyplot as plt\n",
        "data['Species'].value_counts().plot(kind = 'bar')"
      ],
      "execution_count": null,
      "outputs": []
    },
    {
      "cell_type": "markdown",
      "metadata": {
        "id": "lxnrZ0Y-t7CV"
      },
      "source": [
        "50개씩 1:1:1의 분포를 보여주고, 특성과 품종을 각각 종속변수와 독립변수 데이터로 분리하는 작업을 수행한다."
      ]
    },
    {
      "cell_type": "code",
      "metadata": {
        "id": "kFMMRBBMvAUj"
      },
      "source": [
        "data['Species'] = data['Species'].map({'Iris-setosa':1, 'Iris-versicolor':2, 'Iris-virginica':0})\n",
        "data['Species'].value_counts().plot(kind='bar')"
      ],
      "execution_count": null,
      "outputs": []
    },
    {
      "cell_type": "code",
      "metadata": {
        "colab": {
          "base_uri": "https://localhost:8080/"
        },
        "id": "Z4laLVeYtnpt",
        "outputId": "a367c6d7-3218-4f22-d54b-8e0a7e0a4dde"
      },
      "source": [
        "from sklearn.model_selection import train_test_split\n",
        "#X데이터, 총 4개를 가짐\n",
        "data_X = data[['SepalLengthCm', 'SepalWidthCm', 'PetalLengthCm', 'PetalWidthCm']].values\n",
        "#예측해야 하는 값\n",
        "data_y = data['Species'].values\n",
        "\n",
        "print(data_X[:5])\n",
        "print(data_y[:5])"
      ],
      "execution_count": null,
      "outputs": [
        {
          "output_type": "stream",
          "text": [
            "[[5.1 3.5 1.4 0.2]\n",
            " [4.9 3.  1.4 0.2]\n",
            " [4.7 3.2 1.3 0.2]\n",
            " [4.6 3.1 1.5 0.2]\n",
            " [5.  3.6 1.4 0.2]]\n",
            "[1 1 1 1 1]\n"
          ],
          "name": "stdout"
        }
      ]
    },
    {
      "cell_type": "markdown",
      "metadata": {
        "id": "A1qybFQNwkdh"
      },
      "source": [
        "훈련 데이터 / 테스트 데이터의 분리와 원-핫 인코딩 수행"
      ]
    },
    {
      "cell_type": "code",
      "metadata": {
        "id": "oJkgprfYuvhd"
      },
      "source": [
        "# 훈련 데이터: 테스트 데이터 8:2로 나눈다. 데이터의 순서를 섞는다.\n",
        "(X_train, X_test, y_train, y_test) = train_test_split(data_X, data_y, train_size = 0.8, random_state = 1)\n",
        "# 훈련 데이터와 테스트 데이터에 대해서 원-핫 인코딩\n",
        "from tensorflow.keras.utils import to_categorical\n",
        "y_train = to_categorical(y_train)\n",
        "y_test = to_categorical(y_test)\n",
        "\n",
        "print(y_train[:5])\n",
        "print(y_test[:5])"
      ],
      "execution_count": null,
      "outputs": []
    },
    {
      "cell_type": "markdown",
      "metadata": {
        "id": "1iFEu155108A"
      },
      "source": [
        "Softmax Regression"
      ]
    },
    {
      "cell_type": "code",
      "metadata": {
        "id": "zPCOGCP3xyjQ"
      },
      "source": [
        "from tensorflow.keras.models import Sequential\n",
        "from tensorflow.keras.layers import Dense\n",
        "from tensorflow.keras import optimizers"
      ],
      "execution_count": null,
      "outputs": []
    },
    {
      "cell_type": "code",
      "metadata": {
        "id": "pRegMzmd2DiO"
      },
      "source": [
        "model = Sequential()\n",
        "model.add(Dense(3, input_dim = 4, activation ='softmax'))\n",
        "sgd = optimizers.SGD(lr = 0.01)\n",
        "#손실함수로는 categorical_crossentropy, 옵티마이저로는 경사하강법 일종의 adam을 사용\n",
        "model.compile(loss='categorical_crossentropy', optimizer='adam', metrics=['accuracy'])\n",
        "\n",
        "history = model.fit(X_train, y_train, batch_size = 1,  epochs = 200, validation_data=(X_test, y_test))\n",
        "\n",
        "# Epoch 200/200\n",
        "# 120/120 [==============================] - 0s 2ms/step - loss: 0.1613 - accuracy: 0.9667 - val_loss: 0.2012 - val_accuracy: 0.9667"
      ],
      "execution_count": null,
      "outputs": []
    },
    {
      "cell_type": "code",
      "metadata": {
        "colab": {
          "base_uri": "https://localhost:8080/",
          "height": 301
        },
        "id": "KB1wgw7L4fWK",
        "outputId": "f46f7b0c-a4fa-45c3-bc05-b420d025d187"
      },
      "source": [
        "#각 에포크당 훈련, 테스트 데이터에 대한 정확도를 그래프로 나타낸것\n",
        "epochs = range(1, len(history.history['accuracy']) + 1)\n",
        "plt.plot(epochs, history.history['loss'])\n",
        "plt.plot(epochs, history.history['val_loss'])\n",
        "plt.title('model loss')\n",
        "plt.ylabel('loss')\n",
        "plt.xlabel('epoch')\n",
        "plt.legend(['train', 'val'], loc = 'upper left')\n",
        "plt.show()"
      ],
      "execution_count": null,
      "outputs": [
        {
          "output_type": "display_data",
          "data": {
            "image/png": "[encoded data removed]",
            "text/plain": [
              "<Figure size 432x288 with 1 Axes>"
            ]
          },
          "metadata": {
            "tags": []
          }
        }
      ]
    },
    {
      "cell_type": "code",
      "metadata": {
        "colab": {
          "base_uri": "https://localhost:8080/"
        },
        "id": "QKxiTany6E6-",
        "outputId": "bacf0a86-2930-439c-fda1-f7ccac450ddd"
      },
      "source": [
        "print(\"\\n 테스트 정확도: %.4f\" %(model.evaluate(X_test, y_test)[1]))"
      ],
      "execution_count": null,
      "outputs": [
        {
          "output_type": "stream",
          "text": [
            "1/1 [==============================] - 0s 19ms/step - loss: 0.2012 - accuracy: 0.9667\n",
            "\n",
            " 테스트 정확도: 0.9667\n"
          ],
          "name": "stdout"
        }
      ]
    }
  ]
}